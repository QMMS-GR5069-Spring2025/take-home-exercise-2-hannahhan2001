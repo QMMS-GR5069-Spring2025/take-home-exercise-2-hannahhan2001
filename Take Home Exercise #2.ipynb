{
 "cells": [
  {
   "cell_type": "code",
   "execution_count": 0,
   "metadata": {
    "application/vnd.databricks.v1+cell": {
     "cellMetadata": {
      "byteLimit": 2048000,
      "rowLimit": 10000
     },
     "inputWidgets": {},
     "nuid": "e23d4bd6-f295-40d0-bcb3-49e4aaa2a59c",
     "showTitle": false,
     "tableResultSettingsMap": {},
     "title": ""
    }
   },
   "outputs": [],
   "source": [
    "from pyspark.sql.functions import datediff, current_date, avg\n",
    "from pyspark.sql.types import IntegerType\n",
    "from pyspark.sql.functions import col, max, min, when, substring, upper"
   ]
  },
  {
   "cell_type": "code",
   "execution_count": 0,
   "metadata": {
    "application/vnd.databricks.v1+cell": {
     "cellMetadata": {
      "byteLimit": 2048000,
      "rowLimit": 10000
     },
     "inputWidgets": {},
     "nuid": "11718b3c-8356-40e0-885d-262cfdce937d",
     "showTitle": false,
     "tableResultSettingsMap": {},
     "title": ""
    }
   },
   "outputs": [],
   "source": [
    "# 1. What was the average time each driver spent at the pit stop for each race?\n",
    "df_pitstops = spark.read.csv('s3://columbia-gr5069-main/raw/pit_stops.csv', header=True)\n",
    "display(df_pitstops)"
   ]
  },
  {
   "cell_type": "code",
   "execution_count": 0,
   "metadata": {
    "application/vnd.databricks.v1+cell": {
     "cellMetadata": {
      "byteLimit": 2048000,
      "rowLimit": 10000
     },
     "inputWidgets": {},
     "nuid": "8ee588b7-2377-40f9-9568-dc0ef3ed0074",
     "showTitle": false,
     "tableResultSettingsMap": {},
     "title": ""
    }
   },
   "outputs": [],
   "source": [
    "df_avg_duration = df_pitstops.groupby('raceId', 'driverId').agg(avg('milliseconds'))\n",
    "display(df_avg_duration)"
   ]
  },
  {
   "cell_type": "code",
   "execution_count": 0,
   "metadata": {
    "application/vnd.databricks.v1+cell": {
     "cellMetadata": {
      "byteLimit": 2048000,
      "rowLimit": 10000
     },
     "inputWidgets": {},
     "nuid": "1b289881-85a8-4d18-bc02-e0aaa8357df4",
     "showTitle": false,
     "tableResultSettingsMap": {},
     "title": ""
    }
   },
   "outputs": [],
   "source": [
    "# 2.  Rank the average time spent at the pit stop in order of who won each race\n",
    "df_laptimes = spark.read.csv('s3://columbia-gr5069-main/raw/lap_times.csv', header=True)\n",
    "display(df_laptimes)"
   ]
  },
  {
   "cell_type": "code",
   "execution_count": 0,
   "metadata": {
    "application/vnd.databricks.v1+cell": {
     "cellMetadata": {},
     "inputWidgets": {},
     "nuid": "157f0cc2-a15c-4394-8cf7-307422b92a46",
     "showTitle": false,
     "tableResultSettingsMap": {},
     "title": ""
    }
   },
   "outputs": [],
   "source": [
    "df_driver = spark.read.csv('s3://columbia-gr5069-main/raw/drivers.csv', header=True)\n",
    "display(df_driver)"
   ]
  },
  {
   "cell_type": "code",
   "execution_count": 0,
   "metadata": {
    "application/vnd.databricks.v1+cell": {
     "cellMetadata": {
      "byteLimit": 2048000,
      "rowLimit": 10000
     },
     "inputWidgets": {},
     "nuid": "409a3c4e-2b8d-4b63-91bb-4d720cf8aa1a",
     "showTitle": false,
     "tableResultSettingsMap": {},
     "title": ""
    }
   },
   "outputs": [],
   "source": [
    "from pyspark.sql.functions import col, max\n",
    "\n",
    "df_laptimes = df_laptimes.withColumn(\"lap\", col(\"lap\").cast(\"integer\"))\n",
    "max_laps = df_laptimes.groupBy(\"raceId\", \"driverId\").agg(max(\"lap\").alias(\"last_lap\"))\n",
    "display(max_laps)\n"
   ]
  },
  {
   "cell_type": "code",
   "execution_count": 0,
   "metadata": {
    "application/vnd.databricks.v1+cell": {
     "cellMetadata": {
      "byteLimit": 2048000,
      "rowLimit": 10000
     },
     "inputWidgets": {},
     "nuid": "11625a3e-0909-46b0-90aa-6d356bc9152d",
     "showTitle": false,
     "tableResultSettingsMap": {},
     "title": ""
    }
   },
   "outputs": [],
   "source": [
    "final_positions_df = max_laps.join(\n",
    "    df_laptimes,\n",
    "    (max_laps.raceId == df_laptimes.raceId) & \n",
    "    (max_laps.driverId == df_laptimes.driverId) & \n",
    "    (max_laps.last_lap == df_laptimes.lap),\n",
    "    \"inner\")\n",
    "display(final_positions_df)"
   ]
  },
  {
   "cell_type": "code",
   "execution_count": 0,
   "metadata": {
    "application/vnd.databricks.v1+cell": {
     "cellMetadata": {
      "byteLimit": 2048000,
      "rowLimit": 10000
     },
     "inputWidgets": {},
     "nuid": "03d41ae1-c5f9-4adb-b6bd-b63077103bc3",
     "showTitle": false,
     "tableResultSettingsMap": {},
     "title": ""
    }
   },
   "outputs": [],
   "source": [
    "df_rank_avgpitstop = df_avg_duration.join(final_positions_df, on=['driverId', 'raceId']).orderBy(col(\"position\").cast(\"int\").asc())\n",
    "display(df_rank_avgpitstop)"
   ]
  },
  {
   "cell_type": "code",
   "execution_count": 0,
   "metadata": {
    "application/vnd.databricks.v1+cell": {
     "cellMetadata": {
      "byteLimit": 2048000,
      "rowLimit": 10000
     },
     "inputWidgets": {},
     "nuid": "be12ebe0-3fec-4827-82d6-e584b223517a",
     "showTitle": false,
     "tableResultSettingsMap": {},
     "title": ""
    }
   },
   "outputs": [],
   "source": [
    "# 3.  Insert the missing code (e.g: ALO for Alonso) for drivers based on the 'drivers' dataset\n",
    "df_driver = spark.read.csv('s3://columbia-gr5069-main/raw/drivers.csv', header=True)\n",
    "display(df_driver)"
   ]
  },
  {
   "cell_type": "code",
   "execution_count": 0,
   "metadata": {
    "application/vnd.databricks.v1+cell": {
     "cellMetadata": {
      "byteLimit": 2048000,
      "rowLimit": 10000
     },
     "inputWidgets": {},
     "nuid": "855a8ba8-27e4-4f7d-a615-be1f10caf105",
     "showTitle": false,
     "tableResultSettingsMap": {},
     "title": ""
    }
   },
   "outputs": [],
   "source": [
    "from pyspark.sql.functions import col, when, substring, upper\n",
    "\n",
    "df_driver = df_driver.withColumn('code', upper(substring(col(\"surname\"), 1, 3)))\n",
    "display(df_driver)"
   ]
  },
  {
   "cell_type": "code",
   "execution_count": 0,
   "metadata": {
    "application/vnd.databricks.v1+cell": {
     "cellMetadata": {
      "byteLimit": 2048000,
      "rowLimit": 10000
     },
     "inputWidgets": {},
     "nuid": "05e12191-106b-4f32-ae9b-55a19f959a18",
     "showTitle": false,
     "tableResultSettingsMap": {},
     "title": ""
    }
   },
   "outputs": [],
   "source": [
    "# 4. Who is the youngest and oldest driver for each race? Create a new column called “Age”\n",
    "df_driver = df_driver.withColumn(\"age\", datediff(current_date(),df_driver.dob)/365)\n",
    "display(df_driver)"
   ]
  },
  {
   "cell_type": "code",
   "execution_count": 0,
   "metadata": {
    "application/vnd.databricks.v1+cell": {
     "cellMetadata": {
      "byteLimit": 2048000,
      "rowLimit": 10000
     },
     "inputWidgets": {},
     "nuid": "747391da-9c45-4a18-a3fb-100501505dab",
     "showTitle": false,
     "tableResultSettingsMap": {},
     "title": ""
    }
   },
   "outputs": [],
   "source": [
    "max_age = df_driver.select(max(col(\"age\"))).collect()[0][0]\n",
    "min_age = df_driver.select(min(col(\"age\"))).collect()[0][0]\n",
    "df_max_min = df_driver.filter((col(\"age\") == max_age) | (col(\"age\") == min_age))\n",
    "display(df_max_min)"
   ]
  },
  {
   "cell_type": "code",
   "execution_count": 0,
   "metadata": {
    "application/vnd.databricks.v1+cell": {
     "cellMetadata": {},
     "inputWidgets": {},
     "nuid": "57201ea0-7221-425a-a328-2da939f2bf51",
     "showTitle": false,
     "tableResultSettingsMap": {},
     "title": ""
    }
   },
   "outputs": [],
   "source": []
  }
 ],
 "metadata": {
  "application/vnd.databricks.v1+notebook": {
   "computePreferences": null,
   "dashboards": [],
   "environmentMetadata": {
    "base_environment": "",
    "environment_version": "2"
   },
   "language": "python",
   "notebookMetadata": {
    "pythonIndentUnit": 4
   },
   "notebookName": "Take Home Exercise #2",
   "widgets": {}
  },
  "language_info": {
   "name": "python"
  }
 },
 "nbformat": 4,
 "nbformat_minor": 0
}
