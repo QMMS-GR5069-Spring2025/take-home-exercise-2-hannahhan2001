{
 "cells": [
  {
   "cell_type": "code",
   "execution_count": 0,
   "metadata": {
    "application/vnd.databricks.v1+cell": {
     "cellMetadata": {
      "byteLimit": 2048000,
      "rowLimit": 10000
     },
     "inputWidgets": {},
     "nuid": "e23d4bd6-f295-40d0-bcb3-49e4aaa2a59c",
     "showTitle": false,
     "tableResultSettingsMap": {},
     "title": ""
    }
   },
   "outputs": [],
   "source": [
    "from pyspark.sql.functions import datediff, current_date, avg\n",
    "from pyspark.sql.types import IntegerType\n",
    "from pyspark.sql.functions import col, max, min, when, substring, upper, floor, months_between, to_date, first, concat_ws\n",
    "from pyspark.sql import functions as F\n",
    "from pyspark.sql.window import Window"
   ]
  },
  {
   "cell_type": "code",
   "execution_count": 0,
   "metadata": {
    "application/vnd.databricks.v1+cell": {
     "cellMetadata": {
      "byteLimit": 2048000,
      "rowLimit": 10000
     },
     "inputWidgets": {},
     "nuid": "fd8adde5-b822-46b2-826a-1260ecb167d2",
     "showTitle": false,
     "tableResultSettingsMap": {},
     "title": ""
    }
   },
   "outputs": [],
   "source": [
    "df_results = spark.read.csv('s3://columbia-gr5069-main/raw/results.csv', header=True)\n",
    "display(df_results)"
   ]
  },
  {
   "cell_type": "code",
   "execution_count": 0,
   "metadata": {
    "application/vnd.databricks.v1+cell": {
     "cellMetadata": {
      "byteLimit": 2048000,
      "rowLimit": 10000
     },
     "inputWidgets": {},
     "nuid": "11718b3c-8356-40e0-885d-262cfdce937d",
     "showTitle": false,
     "tableResultSettingsMap": {},
     "title": ""
    }
   },
   "outputs": [],
   "source": [
    "df_pitstops = spark.read.csv('s3://columbia-gr5069-main/raw/pit_stops.csv', header=True)\n",
    "display(df_pitstops)"
   ]
  },
  {
   "cell_type": "markdown",
   "metadata": {
    "application/vnd.databricks.v1+cell": {
     "cellMetadata": {},
     "inputWidgets": {},
     "nuid": "3909134b-cf0f-4897-a37a-094933f49dd4",
     "showTitle": false,
     "tableResultSettingsMap": {},
     "title": ""
    }
   },
   "source": [
    "#1. What was the average time each driver spent at the pit stop for each race?"
   ]
  },
  {
   "cell_type": "code",
   "execution_count": 0,
   "metadata": {
    "application/vnd.databricks.v1+cell": {
     "cellMetadata": {
      "byteLimit": 2048000,
      "rowLimit": 10000
     },
     "inputWidgets": {},
     "nuid": "8ee588b7-2377-40f9-9568-dc0ef3ed0074",
     "showTitle": false,
     "tableResultSettingsMap": {},
     "title": ""
    }
   },
   "outputs": [],
   "source": [
    "df_avg_duration = df_pitstops.groupby('raceId', 'driverId').agg(avg('milliseconds')).orderBy(\"raceId\", \"avg(milliseconds)\")\n",
    "display(df_avg_duration)"
   ]
  },
  {
   "cell_type": "code",
   "execution_count": 0,
   "metadata": {
    "application/vnd.databricks.v1+cell": {
     "cellMetadata": {
      "byteLimit": 2048000,
      "rowLimit": 10000
     },
     "inputWidgets": {},
     "nuid": "f67a4357-0fd9-4fb2-a79c-73ec85c31bf8",
     "showTitle": false,
     "tableResultSettingsMap": {},
     "title": ""
    }
   },
   "outputs": [],
   "source": [
    "#raceId starts from 1000, change the order to make the raceId starts from 841, and run again\n",
    "df_avg_duration = df_avg_duration.orderBy(col(\"raceId\").cast(\"int\").asc(), \"avg(milliseconds)\")\n",
    "display(df_avg_duration)"
   ]
  },
  {
   "cell_type": "markdown",
   "metadata": {
    "application/vnd.databricks.v1+cell": {
     "cellMetadata": {},
     "inputWidgets": {},
     "nuid": "1beef229-30a5-48c4-a597-2b8a101bb7e8",
     "showTitle": false,
     "tableResultSettingsMap": {},
     "title": ""
    }
   },
   "source": [
    "# 2.  Rank the average time spent at the pit stop in order of who won each race"
   ]
  },
  {
   "cell_type": "code",
   "execution_count": 0,
   "metadata": {
    "application/vnd.databricks.v1+cell": {
     "cellMetadata": {
      "byteLimit": 2048000,
      "rowLimit": 10000
     },
     "inputWidgets": {},
     "nuid": "41f721de-ccc4-4d7d-914b-fcbbd68eed1d",
     "showTitle": false,
     "tableResultSettingsMap": {},
     "title": ""
    }
   },
   "outputs": [],
   "source": [
    "#join average pitstops with results \n",
    "df_rank_avgpit = df_avg_duration.join(df_results, on=[\"raceId\", \"driverId\"], how=\"left\")\n",
    "\n",
    "# order by raceId and position order\n",
    "df_rank_avgpit = df_rank_avgpit.orderBy(col(\"raceId\").cast(\"int\").asc(), col(\"positionOrder\").cast(\"int\").asc())\n",
    "\n",
    "#make the df easier to read\n",
    "df_rank_avgpit = df_rank_avgpit.select(\"raceId\", \"driverId\", \"positionOrder\", \"avg(milliseconds)\")\n",
    "\n",
    "\n",
    "display(df_rank_avgpit)"
   ]
  },
  {
   "cell_type": "markdown",
   "metadata": {
    "application/vnd.databricks.v1+cell": {
     "cellMetadata": {},
     "inputWidgets": {},
     "nuid": "75551350-158c-405e-abe2-4d6c9d52447f",
     "showTitle": false,
     "tableResultSettingsMap": {},
     "title": ""
    }
   },
   "source": [
    "I only include drivers with a final position to see who won the game. For drivers who did not finish the race, I still put them in the df. "
   ]
  },
  {
   "cell_type": "markdown",
   "metadata": {
    "application/vnd.databricks.v1+cell": {
     "cellMetadata": {},
     "inputWidgets": {},
     "nuid": "ae045826-f3a5-4aee-84fc-02b9d30b8eed",
     "showTitle": false,
     "tableResultSettingsMap": {},
     "title": ""
    }
   },
   "source": [
    "# 3.  Insert the missing code (e.g: ALO for Alonso) for drivers based on the 'drivers' dataset"
   ]
  },
  {
   "cell_type": "code",
   "execution_count": 0,
   "metadata": {
    "application/vnd.databricks.v1+cell": {
     "cellMetadata": {
      "byteLimit": 2048000,
      "rowLimit": 10000
     },
     "inputWidgets": {},
     "nuid": "157f0cc2-a15c-4394-8cf7-307422b92a46",
     "showTitle": false,
     "tableResultSettingsMap": {},
     "title": ""
    }
   },
   "outputs": [],
   "source": [
    "df_driver = spark.read.csv('s3://columbia-gr5069-main/raw/drivers.csv', header=True)\n",
    "display(df_driver)"
   ]
  },
  {
   "cell_type": "code",
   "execution_count": 0,
   "metadata": {
    "application/vnd.databricks.v1+cell": {
     "cellMetadata": {
      "byteLimit": 2048000,
      "rowLimit": 10000
     },
     "inputWidgets": {},
     "nuid": "855a8ba8-27e4-4f7d-a615-be1f10caf105",
     "showTitle": false,
     "tableResultSettingsMap": {},
     "title": ""
    }
   },
   "outputs": [],
   "source": [
    "df_driver = df_driver.withColumn('code', upper(substring(col(\"surname\"), 1, 3)))\n",
    "display(df_driver)\n"
   ]
  },
  {
   "cell_type": "markdown",
   "metadata": {
    "application/vnd.databricks.v1+cell": {
     "cellMetadata": {},
     "inputWidgets": {},
     "nuid": "3ac9d860-2c6d-477c-af83-0c18198d901b",
     "showTitle": false,
     "tableResultSettingsMap": {},
     "title": ""
    }
   },
   "source": [
    "I sort out the first three characters of drivers' surname and capitalize them to make the code."
   ]
  },
  {
   "cell_type": "markdown",
   "metadata": {
    "application/vnd.databricks.v1+cell": {
     "cellMetadata": {},
     "inputWidgets": {},
     "nuid": "4e6e711a-c900-4e67-9a80-f0ab9e6c8b9e",
     "showTitle": false,
     "tableResultSettingsMap": {},
     "title": ""
    }
   },
   "source": [
    "# 4. Who is the youngest and oldest driver for each race? Create a new column called “Age”"
   ]
  },
  {
   "cell_type": "code",
   "execution_count": 0,
   "metadata": {
    "application/vnd.databricks.v1+cell": {
     "cellMetadata": {
      "byteLimit": 2048000,
      "rowLimit": 10000
     },
     "inputWidgets": {},
     "nuid": "534179fa-4225-44d0-805e-94a768d0c345",
     "showTitle": false,
     "tableResultSettingsMap": {},
     "title": ""
    }
   },
   "outputs": [],
   "source": [
    "df_races = spark.read.csv('s3://columbia-gr5069-main/raw/races.csv', header=True)\n",
    "df_races = df_races.select(\"raceId\", \"year\", \"name\", \"date\")\n",
    "display(df_races)"
   ]
  },
  {
   "cell_type": "code",
   "execution_count": 0,
   "metadata": {
    "application/vnd.databricks.v1+cell": {
     "cellMetadata": {
      "byteLimit": 2048000,
      "rowLimit": 10000
     },
     "inputWidgets": {},
     "nuid": "ff85214b-feb4-4b30-b593-373efefec41b",
     "showTitle": false,
     "tableResultSettingsMap": {},
     "title": ""
    }
   },
   "outputs": [],
   "source": [
    "# join driver df with races\n",
    "df_driver_age = df_results.select(\"raceId\", \"driverId\").join(df_driver, on=\"driverId\", how=\"left\").join(df_races, on=\"raceId\", how=\"left\")\n",
    "display(df_driver_age)"
   ]
  },
  {
   "cell_type": "code",
   "execution_count": 0,
   "metadata": {
    "application/vnd.databricks.v1+cell": {
     "cellMetadata": {
      "byteLimit": 2048000,
      "rowLimit": 10000
     },
     "inputWidgets": {},
     "nuid": "94ca8403-7383-43a1-8bf9-323a5d9126cb",
     "showTitle": false,
     "tableResultSettingsMap": {},
     "title": ""
    }
   },
   "outputs": [],
   "source": [
    "#combine forename and surname into one column\n",
    "df_driver_age = df_driver_age.withColumn(\n",
    "    \"driver_name\", \n",
    "    concat_ws(\" \", col(\"forename\"), col(\"surname\"))\n",
    ")\n"
   ]
  },
  {
   "cell_type": "code",
   "execution_count": 0,
   "metadata": {
    "application/vnd.databricks.v1+cell": {
     "cellMetadata": {
      "byteLimit": 2048000,
      "rowLimit": 10000
     },
     "inputWidgets": {},
     "nuid": "9d1bf287-4cea-42bc-8bdf-f3846d0938cd",
     "showTitle": false,
     "tableResultSettingsMap": {},
     "title": ""
    }
   },
   "outputs": [],
   "source": [
    "df_driver_age = df_driver_age.withColumn(\"race_date\", to_date(\"date\"))\n",
    "df_driver_age = df_driver_age.withColumn(\"dob\", to_date(\"dob\"))\n",
    "df_driver_age = df_driver_age.withColumn(\"Age\", floor(months_between(col(\"race_date\"), col(\"dob\")) / 12))\n",
    "display(df_driver_age)"
   ]
  },
  {
   "cell_type": "markdown",
   "metadata": {
    "application/vnd.databricks.v1+cell": {
     "cellMetadata": {},
     "inputWidgets": {},
     "nuid": "c9dbd6a1-662e-4573-bc5c-af8693235065",
     "showTitle": false,
     "tableResultSettingsMap": {},
     "title": ""
    }
   },
   "source": [
    "Create a new column called “Age” that shows the age of drivers when they are participating in certain race. I use months_between to calculate the total months that driver lived during certian race, and / 12 to get the year, then use floor to get the integer age. "
   ]
  },
  {
   "cell_type": "code",
   "execution_count": 0,
   "metadata": {
    "application/vnd.databricks.v1+cell": {
     "cellMetadata": {
      "byteLimit": 2048000,
      "rowLimit": 10000
     },
     "inputWidgets": {},
     "nuid": "cb151fb2-0fac-46b8-bf68-0daa83d52025",
     "showTitle": false,
     "tableResultSettingsMap": {},
     "title": ""
    }
   },
   "outputs": [],
   "source": [
    "age_stats = df_driver_age.groupBy(\"raceId\").agg(\n",
    "    min(\"Age\").alias(\"youngest_age\"),\n",
    "    max(\"Age\").alias(\"oldest_age\")\n",
    ")\n",
    "display(age_stats)\n"
   ]
  },
  {
   "cell_type": "code",
   "execution_count": 0,
   "metadata": {
    "application/vnd.databricks.v1+cell": {
     "cellMetadata": {
      "byteLimit": 2048000,
      "rowLimit": 10000
     },
     "inputWidgets": {},
     "nuid": "ec6dfb19-f639-4bbd-8940-cbbefa45e738",
     "showTitle": false,
     "tableResultSettingsMap": {},
     "title": ""
    }
   },
   "outputs": [],
   "source": [
    "window_spec = Window.partitionBy(\"raceId\").orderBy(\"Age\")\n",
    "\n",
    "# Rank the youngest driver \n",
    "youngest_driver_df = df_driver_age.withColumn(\"rank\", F.row_number().over(window_spec)) \\\n",
    "                                   .filter(col(\"rank\") == 1) \\\n",
    "                                   .select(\"raceId\", \"driver_name\", \"Age\") \\\n",
    "                                   .withColumnRenamed(\"driver_name\", \"youngest_driver\") \\\n",
    "                                   .withColumnRenamed(\"Age\", \"youngest_age\")\n",
    "\n",
    "# Rank the oldest driver \n",
    "oldest_driver_df = df_driver_age.withColumn(\"rank\", F.row_number().over(window_spec.orderBy(F.col(\"Age\").desc()))) \\\n",
    "                                .filter(col(\"rank\") == 1) \\\n",
    "                                .select(\"raceId\", \"driver_name\", \"Age\") \\\n",
    "                                .withColumnRenamed(\"driver_name\", \"oldest_driver\") \\\n",
    "                                .withColumnRenamed(\"Age\", \"oldest_age\")\n",
    "\n",
    "# Join the youngest and oldest driver df \n",
    "result_df = youngest_driver_df.join(\n",
    "    oldest_driver_df, \n",
    "    on=\"raceId\", \n",
    "    how=\"inner\"\n",
    ").select(\n",
    "    col(\"raceId\").alias(\"race_id\"), \n",
    "    col(\"youngest_driver\"),\n",
    "    col(\"youngest_age\"),\n",
    "    col(\"oldest_driver\"),\n",
    "    col(\"oldest_age\")\n",
    ")\n",
    "\n",
    "display(result_df)"
   ]
  },
  {
   "cell_type": "markdown",
   "metadata": {
    "application/vnd.databricks.v1+cell": {
     "cellMetadata": {},
     "inputWidgets": {},
     "nuid": "5aea86ad-bc98-4a3e-9695-2aed5a2716fa",
     "showTitle": false,
     "tableResultSettingsMap": {},
     "title": ""
    }
   },
   "source": [
    "# 5. For a given race, which driver has the most wins and losses?"
   ]
  },
  {
   "cell_type": "code",
   "execution_count": 0,
   "metadata": {
    "application/vnd.databricks.v1+cell": {
     "cellMetadata": {
      "byteLimit": 2048000,
      "rowLimit": 10000
     },
     "inputWidgets": {},
     "nuid": "57201ea0-7221-425a-a328-2da939f2bf51",
     "showTitle": false,
     "tableResultSettingsMap": {},
     "title": ""
    }
   },
   "outputs": [],
   "source": [
    "\n",
    "df_results = spark.read.csv(\"s3://columbia-gr5069-main/raw/results.csv\", header=True)\n",
    "display(df_results)\n",
    "df_status = spark.read.csv('s3://columbia-gr5069-main/raw/status.csv', header=True)\n",
    "display(df_status)\n"
   ]
  },
  {
   "cell_type": "code",
   "execution_count": 0,
   "metadata": {
    "application/vnd.databricks.v1+cell": {
     "cellMetadata": {
      "byteLimit": 2048000,
      "rowLimit": 10000
     },
     "inputWidgets": {},
     "nuid": "469235be-e3e3-42d2-9ea8-d706879a8063",
     "showTitle": false,
     "tableResultSettingsMap": {},
     "title": ""
    }
   },
   "outputs": [],
   "source": [
    "df_results_new = df_results.join(df_status, on=\"statusId\", how=\"left\")\n",
    "display(df_results_new)\n",
    "     "
   ]
  },
  {
   "cell_type": "code",
   "execution_count": 0,
   "metadata": {
    "application/vnd.databricks.v1+cell": {
     "cellMetadata": {
      "byteLimit": 2048000,
      "rowLimit": 10000
     },
     "inputWidgets": {},
     "nuid": "497d7908-ae28-49a7-b3a6-db1bbc53be83",
     "showTitle": false,
     "tableResultSettingsMap": {},
     "title": ""
    }
   },
   "outputs": [],
   "source": [
    "df_results_status = df_results_new \\\n",
    "    .withColumn(\"win\", when(col(\"positionOrder\") == 1, 1).otherwise(0)) \\\n",
    "    .withColumn(\"completed\", when(\n",
    "        (col(\"status\").contains(\"Finished\")) | (col(\"status\").rlike(\"\\+[0-9]+ Laps?\")),\n",
    "        1\n",
    "    ).otherwise(0)) \\\n",
    "    .withColumn(\"completed_not_win\", when(\n",
    "        (col(\"completed\") == 1) & (col(\"positionOrder\") != 1), 1\n",
    "    ).otherwise(0))\n",
    "display(df_results_status)\n",
    "\n",
    "\n"
   ]
  },
  {
   "cell_type": "code",
   "execution_count": 0,
   "metadata": {
    "application/vnd.databricks.v1+cell": {
     "cellMetadata": {
      "byteLimit": 2048000,
      "rowLimit": 10000
     },
     "inputWidgets": {},
     "nuid": "ad49d2d2-d694-4178-b17f-294c7ae82478",
     "showTitle": false,
     "tableResultSettingsMap": {},
     "title": ""
    }
   },
   "outputs": [],
   "source": [
    "df_races = spark.read.csv('s3://columbia-gr5069-main/raw/races.csv', header=True) \n",
    "display(df_races)"
   ]
  },
  {
   "cell_type": "code",
   "execution_count": 0,
   "metadata": {
    "application/vnd.databricks.v1+cell": {
     "cellMetadata": {
      "byteLimit": 2048000,
      "rowLimit": 10000
     },
     "inputWidgets": {},
     "nuid": "52b63c95-d293-48dd-9dae-1c037edfc27c",
     "showTitle": false,
     "tableResultSettingsMap": {},
     "title": ""
    }
   },
   "outputs": [],
   "source": [
    "df_driver = df_driver.withColumn(\n",
    "    \"driver_name\", \n",
    "    concat_ws(\" \", col(\"forename\"), col(\"surname\"))\n",
    ")\n",
    "display(df_driver)"
   ]
  },
  {
   "cell_type": "code",
   "execution_count": 0,
   "metadata": {
    "application/vnd.databricks.v1+cell": {
     "cellMetadata": {
      "byteLimit": 2048000,
      "rowLimit": 10000
     },
     "inputWidgets": {},
     "nuid": "62a82d7f-0c02-494f-805c-115ca64c0b39",
     "showTitle": false,
     "tableResultSettingsMap": {},
     "title": ""
    }
   },
   "outputs": [],
   "source": [
    "df_results_date = df_results_status.join(df_races.select(\"raceId\", \"date\"), on=\"raceId\", how=\"left\")\n",
    "df_results_date = df_results_date.join(df_driver.select(\"driverId\", \"driver_name\"), on=\"driverId\", how=\"left\")\n",
    "display(df_results_date)"
   ]
  },
  {
   "cell_type": "code",
   "execution_count": 0,
   "metadata": {
    "application/vnd.databricks.v1+cell": {
     "cellMetadata": {
      "byteLimit": 2048000,
      "rowLimit": 10000
     },
     "inputWidgets": {},
     "nuid": "5f6ea5c0-381a-4dbf-9408-9003e9b82b0f",
     "showTitle": false,
     "tableResultSettingsMap": {},
     "title": ""
    }
   },
   "outputs": [],
   "source": [
    "window_spec = Window.partitionBy(\"driverId\").orderBy(\"date\").rowsBetween(Window.unboundedPreceding, -1)\n",
    "\n",
    "df_driver_winlose = df_results_date \\\n",
    "    .withColumn(\"all_wins_before\", F.sum(\"win\").over(window_spec)) \\\n",
    "    .withColumn(\"all_completes_not_win_before\", F.sum(\"completed_not_win\").over(window_spec))\n",
    "\n",
    "df_driver_winlose = df_driver_winlose.select(\n",
    "    \"raceId\", \"driverId\", \"driver_name\", \"date\", \"positionOrder\",\n",
    "    \"win\", \"completed_not_win\",\n",
    "    \"all_wins_before\", \"all_completes_not_win_before\"\n",
    ").orderBy(\"raceId\", \"positionOrder\")\n",
    "\n",
    "display(df_driver_winlose)"
   ]
  },
  {
   "cell_type": "markdown",
   "metadata": {
    "application/vnd.databricks.v1+cell": {
     "cellMetadata": {},
     "inputWidgets": {},
     "nuid": "916334a5-a28a-477a-9dbd-7db2dc19fbf2",
     "showTitle": false,
     "tableResultSettingsMap": {},
     "title": ""
    }
   },
   "source": [
    "# 6. own question\n",
    "What position did each driver hold on their last completed lap in each race?"
   ]
  },
  {
   "cell_type": "code",
   "execution_count": 0,
   "metadata": {
    "application/vnd.databricks.v1+cell": {
     "cellMetadata": {
      "byteLimit": 2048000,
      "rowLimit": 10000
     },
     "inputWidgets": {},
     "nuid": "38c5f95d-0fc5-47b7-9ce2-78d01a3b7384",
     "showTitle": false,
     "tableResultSettingsMap": {},
     "title": ""
    }
   },
   "outputs": [],
   "source": [
    "df_laptimes = spark.read.csv('s3://columbia-gr5069-main/raw/lap_times.csv', header=True)\n",
    "display(df_laptimes)"
   ]
  },
  {
   "cell_type": "code",
   "execution_count": 0,
   "metadata": {
    "application/vnd.databricks.v1+cell": {
     "cellMetadata": {
      "byteLimit": 2048000,
      "rowLimit": 10000
     },
     "inputWidgets": {},
     "nuid": "39afc754-e3b0-4584-841b-53be264a155a",
     "showTitle": false,
     "tableResultSettingsMap": {},
     "title": ""
    }
   },
   "outputs": [],
   "source": [
    "df_laptimes = df_laptimes.withColumn(\"lap\", col(\"lap\").cast(\"integer\"))\n",
    "max_laps = df_laptimes.groupBy(\"raceId\", \"driverId\").agg(max(\"lap\").alias(\"last_lap\"))\n",
    "display(max_laps)"
   ]
  },
  {
   "cell_type": "code",
   "execution_count": 0,
   "metadata": {
    "application/vnd.databricks.v1+cell": {
     "cellMetadata": {
      "byteLimit": 2048000,
      "rowLimit": 10000
     },
     "inputWidgets": {},
     "nuid": "ecac6756-ccaa-4a50-b7f2-f9553add4332",
     "showTitle": false,
     "tableResultSettingsMap": {},
     "title": ""
    }
   },
   "outputs": [],
   "source": [
    "final_positions_df = max_laps.alias(\"max\").join(\n",
    "    df_laptimes.alias(\"laptimes\"),\n",
    "    (col(\"max.raceId\") == col(\"laptimes.raceId\")) & \n",
    "    (col(\"max.driverId\") == col(\"laptimes.driverId\")) & \n",
    "    (col(\"max.last_lap\") == col(\"laptimes.lap\")),\n",
    "    \"inner\"\n",
    ")\n",
    "\n",
    "# Select the relevant columns with clear aliases to avoid ambiguity\n",
    "final_positions_df = final_positions_df.select(\n",
    "    col(\"max.raceId\"),\n",
    "    col(\"laptimes.driverId\"),\n",
    "    col(\"max.last_lap\"),\n",
    "    col(\"laptimes.position\"),\n",
    "    col(\"laptimes.time\"),\n",
    "    col(\"laptimes.milliseconds\")\n",
    ")\n",
    "\n",
    "final_positions_df = final_positions_df.orderBy(\"raceId\", col(\"last_lap\").cast(\"int\").asc())\n",
    "\n",
    "display(final_positions_df)\n"
   ]
  }
 ],
 "metadata": {
  "application/vnd.databricks.v1+notebook": {
   "computePreferences": null,
   "dashboards": [],
   "environmentMetadata": {
    "base_environment": "",
    "environment_version": "2"
   },
   "language": "python",
   "notebookMetadata": {
    "pythonIndentUnit": 4
   },
   "notebookName": "Take Home Exercise #2",
   "widgets": {}
  },
  "language_info": {
   "name": "python"
  }
 },
 "nbformat": 4,
 "nbformat_minor": 0
}
